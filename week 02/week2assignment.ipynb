{
 "cells": [
  {
   "cell_type": "markdown",
   "id": "39a7f5f3-d393-4d24-a0c9-111bc1f5675e",
   "metadata": {},
   "source": [
    "# Week 2 Assignment \n",
    "## Data exploration\n",
    "The purpose of the assignment is to explore this data set. I will be going through the data set on Homelessness Counts (2020) in Los Angeles. I am interested in exploring this data set because it relates to my research interest in housing. I will be looking into what is in the data, asking questions like how many rows/columns are there? What are the data types?"
   ]
  },
  {
   "cell_type": "code",
   "execution_count": 45,
   "id": "24789bc7-80bd-49c4-bdad-836f1c0c5e1c",
   "metadata": {},
   "outputs": [],
   "source": [
    "# importing Python libraries\n",
    "import pandas as pd\n",
    "import geopandas as gpd"
   ]
  },
  {
   "cell_type": "code",
   "execution_count": 46,
   "id": "a0b866e9-d5a1-47b8-8777-ade10be99132",
   "metadata": {},
   "outputs": [
    {
     "data": {
      "text/html": [
       "<div>\n",
       "<style scoped>\n",
       "    .dataframe tbody tr th:only-of-type {\n",
       "        vertical-align: middle;\n",
       "    }\n",
       "\n",
       "    .dataframe tbody tr th {\n",
       "        vertical-align: top;\n",
       "    }\n",
       "\n",
       "    .dataframe thead th {\n",
       "        text-align: right;\n",
       "    }\n",
       "</style>\n",
       "<table border=\"1\" class=\"dataframe\">\n",
       "  <thead>\n",
       "    <tr style=\"text-align: right;\">\n",
       "      <th></th>\n",
       "      <th>OBJECTID</th>\n",
       "      <th>CSA_Label</th>\n",
       "      <th>Total_Unsheltered_Pop</th>\n",
       "      <th>Total_Sheltered_Pop</th>\n",
       "      <th>Total_Pop</th>\n",
       "      <th>Data_Source</th>\n",
       "      <th>Square_Miles</th>\n",
       "      <th>Density_Unsheltered</th>\n",
       "      <th>Density_Sheltered</th>\n",
       "      <th>Density_Total</th>\n",
       "      <th>Shape__Area</th>\n",
       "      <th>Shape__Length</th>\n",
       "      <th>geometry</th>\n",
       "    </tr>\n",
       "  </thead>\n",
       "  <tbody>\n",
       "    <tr>\n",
       "      <th>0</th>\n",
       "      <td>1</td>\n",
       "      <td>City of Agoura Hills</td>\n",
       "      <td>2</td>\n",
       "      <td>0</td>\n",
       "      <td>2</td>\n",
       "      <td>Los Angeles Homeless Services Authority (LAHSA)</td>\n",
       "      <td>5.42772257254032</td>\n",
       "      <td>0.368478670984089</td>\n",
       "      <td>0</td>\n",
       "      <td>0.368478670984089</td>\n",
       "      <td>20581497.1679688</td>\n",
       "      <td>21914.0809034578</td>\n",
       "      <td>None</td>\n",
       "    </tr>\n",
       "    <tr>\n",
       "      <th>1</th>\n",
       "      <td>2</td>\n",
       "      <td>City of Alhambra</td>\n",
       "      <td>32</td>\n",
       "      <td>14</td>\n",
       "      <td>46</td>\n",
       "      <td>Los Angeles Homeless Services Authority (LAHSA)</td>\n",
       "      <td>7.63002893846662</td>\n",
       "      <td>4.19395525994308</td>\n",
       "      <td>1.8348554262251</td>\n",
       "      <td>6.02881068616818</td>\n",
       "      <td>28882441.875</td>\n",
       "      <td>25368.8960589701</td>\n",
       "      <td>None</td>\n",
       "    </tr>\n",
       "    <tr>\n",
       "      <th>2</th>\n",
       "      <td>3</td>\n",
       "      <td>City of Arcadia</td>\n",
       "      <td>68</td>\n",
       "      <td>0</td>\n",
       "      <td>68</td>\n",
       "      <td>Los Angeles Homeless Services Authority (LAHSA)</td>\n",
       "      <td>10.2404110274238</td>\n",
       "      <td>6.64035846001651</td>\n",
       "      <td>0</td>\n",
       "      <td>6.64035846001651</td>\n",
       "      <td>38812357.6015625</td>\n",
       "      <td>35209.9662573011</td>\n",
       "      <td>None</td>\n",
       "    </tr>\n",
       "    <tr>\n",
       "      <th>3</th>\n",
       "      <td>4</td>\n",
       "      <td>City of Artesia</td>\n",
       "      <td>24</td>\n",
       "      <td>0</td>\n",
       "      <td>24</td>\n",
       "      <td>Los Angeles Homeless Services Authority (LAHSA)</td>\n",
       "      <td>1.62077268564757</td>\n",
       "      <td>14.8077520139173</td>\n",
       "      <td>0</td>\n",
       "      <td>14.8077520139173</td>\n",
       "      <td>6103735.5859375</td>\n",
       "      <td>15015.3365503336</td>\n",
       "      <td>None</td>\n",
       "    </tr>\n",
       "    <tr>\n",
       "      <th>4</th>\n",
       "      <td>5</td>\n",
       "      <td>City of Avalon</td>\n",
       "      <td>28</td>\n",
       "      <td>3</td>\n",
       "      <td>31</td>\n",
       "      <td>Los Angeles Homeless Services Authority (LAHSA)</td>\n",
       "      <td>1.23383326080227</td>\n",
       "      <td>22.693503968108</td>\n",
       "      <td>2.43144685372586</td>\n",
       "      <td>25.1249508218339</td>\n",
       "      <td>4589095.265625</td>\n",
       "      <td>12492.0862887429</td>\n",
       "      <td>None</td>\n",
       "    </tr>\n",
       "    <tr>\n",
       "      <th>...</th>\n",
       "      <td>...</td>\n",
       "      <td>...</td>\n",
       "      <td>...</td>\n",
       "      <td>...</td>\n",
       "      <td>...</td>\n",
       "      <td>...</td>\n",
       "      <td>...</td>\n",
       "      <td>...</td>\n",
       "      <td>...</td>\n",
       "      <td>...</td>\n",
       "      <td>...</td>\n",
       "      <td>...</td>\n",
       "      <td>...</td>\n",
       "    </tr>\n",
       "    <tr>\n",
       "      <th>299</th>\n",
       "      <td>300</td>\n",
       "      <td>Unincorporated - White Fence Farms</td>\n",
       "      <td>13</td>\n",
       "      <td>0</td>\n",
       "      <td>13</td>\n",
       "      <td>Los Angeles Homeless Services Authority (LAHSA)</td>\n",
       "      <td>7.85788463582978</td>\n",
       "      <td>1.65438926663845</td>\n",
       "      <td>0</td>\n",
       "      <td>1.65438926663845</td>\n",
       "      <td>30134418.53125</td>\n",
       "      <td>24679.1712843916</td>\n",
       "      <td>None</td>\n",
       "    </tr>\n",
       "    <tr>\n",
       "      <th>300</th>\n",
       "      <td>301</td>\n",
       "      <td>Unincorporated - Whittier</td>\n",
       "      <td>3</td>\n",
       "      <td>0</td>\n",
       "      <td>3</td>\n",
       "      <td>Los Angeles Homeless Services Authority (LAHSA)</td>\n",
       "      <td>5.88621770464277</td>\n",
       "      <td>0.509665145010478</td>\n",
       "      <td>0</td>\n",
       "      <td>0.509665145010478</td>\n",
       "      <td>22241230.0078125</td>\n",
       "      <td>22397.2095820017</td>\n",
       "      <td>None</td>\n",
       "    </tr>\n",
       "    <tr>\n",
       "      <th>301</th>\n",
       "      <td>302</td>\n",
       "      <td>Unincorporated - Whittier Narrows</td>\n",
       "      <td>92</td>\n",
       "      <td>0</td>\n",
       "      <td>92</td>\n",
       "      <td>Los Angeles Homeless Services Authority (LAHSA)</td>\n",
       "      <td>3.76624967841111</td>\n",
       "      <td>24.4274830018207</td>\n",
       "      <td>0</td>\n",
       "      <td>24.4274830018207</td>\n",
       "      <td>14240688.0039063</td>\n",
       "      <td>17941.6755539275</td>\n",
       "      <td>None</td>\n",
       "    </tr>\n",
       "    <tr>\n",
       "      <th>302</th>\n",
       "      <td>303</td>\n",
       "      <td>Unincorporated - Willowbrook</td>\n",
       "      <td>433</td>\n",
       "      <td>0</td>\n",
       "      <td>433</td>\n",
       "      <td>Los Angeles Homeless Services Authority (LAHSA)</td>\n",
       "      <td>3.36158949404279</td>\n",
       "      <td>128.808113176025</td>\n",
       "      <td>0</td>\n",
       "      <td>128.808113176025</td>\n",
       "      <td>12674382.4882813</td>\n",
       "      <td>26461.6050265783</td>\n",
       "      <td>None</td>\n",
       "    </tr>\n",
       "    <tr>\n",
       "      <th>303</th>\n",
       "      <td>304</td>\n",
       "      <td>Unincorporated - Wiseburn</td>\n",
       "      <td>7</td>\n",
       "      <td>0</td>\n",
       "      <td>7</td>\n",
       "      <td>Los Angeles Homeless Services Authority (LAHSA)</td>\n",
       "      <td>0.68810454359537</td>\n",
       "      <td>10.1728728071243</td>\n",
       "      <td>0</td>\n",
       "      <td>10.1728728071243</td>\n",
       "      <td>2593773.58984375</td>\n",
       "      <td>7116.52016424088</td>\n",
       "      <td>None</td>\n",
       "    </tr>\n",
       "  </tbody>\n",
       "</table>\n",
       "<p>304 rows × 13 columns</p>\n",
       "</div>"
      ],
      "text/plain": [
       "    OBJECTID                           CSA_Label Total_Unsheltered_Pop  \\\n",
       "0          1                City of Agoura Hills                     2   \n",
       "1          2                    City of Alhambra                    32   \n",
       "2          3                     City of Arcadia                    68   \n",
       "3          4                     City of Artesia                    24   \n",
       "4          5                      City of Avalon                    28   \n",
       "..       ...                                 ...                   ...   \n",
       "299      300  Unincorporated - White Fence Farms                    13   \n",
       "300      301           Unincorporated - Whittier                     3   \n",
       "301      302   Unincorporated - Whittier Narrows                    92   \n",
       "302      303        Unincorporated - Willowbrook                   433   \n",
       "303      304           Unincorporated - Wiseburn                     7   \n",
       "\n",
       "    Total_Sheltered_Pop Total_Pop  \\\n",
       "0                     0         2   \n",
       "1                    14        46   \n",
       "2                     0        68   \n",
       "3                     0        24   \n",
       "4                     3        31   \n",
       "..                  ...       ...   \n",
       "299                   0        13   \n",
       "300                   0         3   \n",
       "301                   0        92   \n",
       "302                   0       433   \n",
       "303                   0         7   \n",
       "\n",
       "                                         Data_Source      Square_Miles  \\\n",
       "0    Los Angeles Homeless Services Authority (LAHSA)  5.42772257254032   \n",
       "1    Los Angeles Homeless Services Authority (LAHSA)  7.63002893846662   \n",
       "2    Los Angeles Homeless Services Authority (LAHSA)  10.2404110274238   \n",
       "3    Los Angeles Homeless Services Authority (LAHSA)  1.62077268564757   \n",
       "4    Los Angeles Homeless Services Authority (LAHSA)  1.23383326080227   \n",
       "..                                               ...               ...   \n",
       "299  Los Angeles Homeless Services Authority (LAHSA)  7.85788463582978   \n",
       "300  Los Angeles Homeless Services Authority (LAHSA)  5.88621770464277   \n",
       "301  Los Angeles Homeless Services Authority (LAHSA)  3.76624967841111   \n",
       "302  Los Angeles Homeless Services Authority (LAHSA)  3.36158949404279   \n",
       "303  Los Angeles Homeless Services Authority (LAHSA)  0.68810454359537   \n",
       "\n",
       "    Density_Unsheltered Density_Sheltered      Density_Total  \\\n",
       "0     0.368478670984089                 0  0.368478670984089   \n",
       "1      4.19395525994308   1.8348554262251   6.02881068616818   \n",
       "2      6.64035846001651                 0   6.64035846001651   \n",
       "3      14.8077520139173                 0   14.8077520139173   \n",
       "4       22.693503968108  2.43144685372586   25.1249508218339   \n",
       "..                  ...               ...                ...   \n",
       "299    1.65438926663845                 0   1.65438926663845   \n",
       "300   0.509665145010478                 0  0.509665145010478   \n",
       "301    24.4274830018207                 0   24.4274830018207   \n",
       "302    128.808113176025                 0   128.808113176025   \n",
       "303    10.1728728071243                 0   10.1728728071243   \n",
       "\n",
       "          Shape__Area     Shape__Length geometry  \n",
       "0    20581497.1679688  21914.0809034578     None  \n",
       "1        28882441.875  25368.8960589701     None  \n",
       "2    38812357.6015625  35209.9662573011     None  \n",
       "3     6103735.5859375  15015.3365503336     None  \n",
       "4      4589095.265625  12492.0862887429     None  \n",
       "..                ...               ...      ...  \n",
       "299    30134418.53125  24679.1712843916     None  \n",
       "300  22241230.0078125  22397.2095820017     None  \n",
       "301  14240688.0039063  17941.6755539275     None  \n",
       "302  12674382.4882813  26461.6050265783     None  \n",
       "303  2593773.58984375  7116.52016424088     None  \n",
       "\n",
       "[304 rows x 13 columns]"
      ]
     },
     "execution_count": 46,
     "metadata": {},
     "output_type": "execute_result"
    }
   ],
   "source": [
    "# read and add shapefile to notebook\n",
    "homeless = gpd.read_file('Homeless_Counts_2020.csv')\n",
    "homeless"
   ]
  },
  {
   "cell_type": "code",
   "execution_count": 47,
   "id": "0cd439a8-d3eb-47d4-9ac8-521203317d7a",
   "metadata": {},
   "outputs": [
    {
     "data": {
      "text/plain": [
       "geopandas.geodataframe.GeoDataFrame"
      ]
     },
     "execution_count": 47,
     "metadata": {},
     "output_type": "execute_result"
    }
   ],
   "source": [
    "# what's the data type?\n",
    "type(homeless)"
   ]
  },
  {
   "cell_type": "code",
   "execution_count": 48,
   "id": "a2b53fbe-9e85-4904-99aa-cd5c05abade3",
   "metadata": {},
   "outputs": [
    {
     "data": {
      "text/html": [
       "<div>\n",
       "<style scoped>\n",
       "    .dataframe tbody tr th:only-of-type {\n",
       "        vertical-align: middle;\n",
       "    }\n",
       "\n",
       "    .dataframe tbody tr th {\n",
       "        vertical-align: top;\n",
       "    }\n",
       "\n",
       "    .dataframe thead th {\n",
       "        text-align: right;\n",
       "    }\n",
       "</style>\n",
       "<table border=\"1\" class=\"dataframe\">\n",
       "  <thead>\n",
       "    <tr style=\"text-align: right;\">\n",
       "      <th></th>\n",
       "      <th>OBJECTID</th>\n",
       "      <th>CSA_Label</th>\n",
       "      <th>Total_Unsheltered_Pop</th>\n",
       "      <th>Total_Sheltered_Pop</th>\n",
       "      <th>Total_Pop</th>\n",
       "      <th>Data_Source</th>\n",
       "      <th>Square_Miles</th>\n",
       "      <th>Density_Unsheltered</th>\n",
       "      <th>Density_Sheltered</th>\n",
       "      <th>Density_Total</th>\n",
       "      <th>Shape__Area</th>\n",
       "      <th>Shape__Length</th>\n",
       "      <th>geometry</th>\n",
       "    </tr>\n",
       "  </thead>\n",
       "  <tbody>\n",
       "    <tr>\n",
       "      <th>0</th>\n",
       "      <td>1</td>\n",
       "      <td>City of Agoura Hills</td>\n",
       "      <td>2</td>\n",
       "      <td>0</td>\n",
       "      <td>2</td>\n",
       "      <td>Los Angeles Homeless Services Authority (LAHSA)</td>\n",
       "      <td>5.42772257254032</td>\n",
       "      <td>0.368478670984089</td>\n",
       "      <td>0</td>\n",
       "      <td>0.368478670984089</td>\n",
       "      <td>20581497.1679688</td>\n",
       "      <td>21914.0809034578</td>\n",
       "      <td>None</td>\n",
       "    </tr>\n",
       "    <tr>\n",
       "      <th>1</th>\n",
       "      <td>2</td>\n",
       "      <td>City of Alhambra</td>\n",
       "      <td>32</td>\n",
       "      <td>14</td>\n",
       "      <td>46</td>\n",
       "      <td>Los Angeles Homeless Services Authority (LAHSA)</td>\n",
       "      <td>7.63002893846662</td>\n",
       "      <td>4.19395525994308</td>\n",
       "      <td>1.8348554262251</td>\n",
       "      <td>6.02881068616818</td>\n",
       "      <td>28882441.875</td>\n",
       "      <td>25368.8960589701</td>\n",
       "      <td>None</td>\n",
       "    </tr>\n",
       "    <tr>\n",
       "      <th>2</th>\n",
       "      <td>3</td>\n",
       "      <td>City of Arcadia</td>\n",
       "      <td>68</td>\n",
       "      <td>0</td>\n",
       "      <td>68</td>\n",
       "      <td>Los Angeles Homeless Services Authority (LAHSA)</td>\n",
       "      <td>10.2404110274238</td>\n",
       "      <td>6.64035846001651</td>\n",
       "      <td>0</td>\n",
       "      <td>6.64035846001651</td>\n",
       "      <td>38812357.6015625</td>\n",
       "      <td>35209.9662573011</td>\n",
       "      <td>None</td>\n",
       "    </tr>\n",
       "    <tr>\n",
       "      <th>3</th>\n",
       "      <td>4</td>\n",
       "      <td>City of Artesia</td>\n",
       "      <td>24</td>\n",
       "      <td>0</td>\n",
       "      <td>24</td>\n",
       "      <td>Los Angeles Homeless Services Authority (LAHSA)</td>\n",
       "      <td>1.62077268564757</td>\n",
       "      <td>14.8077520139173</td>\n",
       "      <td>0</td>\n",
       "      <td>14.8077520139173</td>\n",
       "      <td>6103735.5859375</td>\n",
       "      <td>15015.3365503336</td>\n",
       "      <td>None</td>\n",
       "    </tr>\n",
       "    <tr>\n",
       "      <th>4</th>\n",
       "      <td>5</td>\n",
       "      <td>City of Avalon</td>\n",
       "      <td>28</td>\n",
       "      <td>3</td>\n",
       "      <td>31</td>\n",
       "      <td>Los Angeles Homeless Services Authority (LAHSA)</td>\n",
       "      <td>1.23383326080227</td>\n",
       "      <td>22.693503968108</td>\n",
       "      <td>2.43144685372586</td>\n",
       "      <td>25.1249508218339</td>\n",
       "      <td>4589095.265625</td>\n",
       "      <td>12492.0862887429</td>\n",
       "      <td>None</td>\n",
       "    </tr>\n",
       "  </tbody>\n",
       "</table>\n",
       "</div>"
      ],
      "text/plain": [
       "  OBJECTID             CSA_Label Total_Unsheltered_Pop Total_Sheltered_Pop  \\\n",
       "0        1  City of Agoura Hills                     2                   0   \n",
       "1        2      City of Alhambra                    32                  14   \n",
       "2        3       City of Arcadia                    68                   0   \n",
       "3        4       City of Artesia                    24                   0   \n",
       "4        5        City of Avalon                    28                   3   \n",
       "\n",
       "  Total_Pop                                      Data_Source  \\\n",
       "0         2  Los Angeles Homeless Services Authority (LAHSA)   \n",
       "1        46  Los Angeles Homeless Services Authority (LAHSA)   \n",
       "2        68  Los Angeles Homeless Services Authority (LAHSA)   \n",
       "3        24  Los Angeles Homeless Services Authority (LAHSA)   \n",
       "4        31  Los Angeles Homeless Services Authority (LAHSA)   \n",
       "\n",
       "       Square_Miles Density_Unsheltered Density_Sheltered      Density_Total  \\\n",
       "0  5.42772257254032   0.368478670984089                 0  0.368478670984089   \n",
       "1  7.63002893846662    4.19395525994308   1.8348554262251   6.02881068616818   \n",
       "2  10.2404110274238    6.64035846001651                 0   6.64035846001651   \n",
       "3  1.62077268564757    14.8077520139173                 0   14.8077520139173   \n",
       "4  1.23383326080227     22.693503968108  2.43144685372586   25.1249508218339   \n",
       "\n",
       "        Shape__Area     Shape__Length geometry  \n",
       "0  20581497.1679688  21914.0809034578     None  \n",
       "1      28882441.875  25368.8960589701     None  \n",
       "2  38812357.6015625  35209.9662573011     None  \n",
       "3   6103735.5859375  15015.3365503336     None  \n",
       "4    4589095.265625  12492.0862887429     None  "
      ]
     },
     "execution_count": 48,
     "metadata": {},
     "output_type": "execute_result"
    }
   ],
   "source": [
    "# what does the data look like? first 5 rows\n",
    "homeless.head()"
   ]
  },
  {
   "cell_type": "code",
   "execution_count": 49,
   "id": "0ebafc72-c72c-4b86-a1c4-7f9f124003ae",
   "metadata": {},
   "outputs": [
    {
     "data": {
      "text/html": [
       "<div>\n",
       "<style scoped>\n",
       "    .dataframe tbody tr th:only-of-type {\n",
       "        vertical-align: middle;\n",
       "    }\n",
       "\n",
       "    .dataframe tbody tr th {\n",
       "        vertical-align: top;\n",
       "    }\n",
       "\n",
       "    .dataframe thead th {\n",
       "        text-align: right;\n",
       "    }\n",
       "</style>\n",
       "<table border=\"1\" class=\"dataframe\">\n",
       "  <thead>\n",
       "    <tr style=\"text-align: right;\">\n",
       "      <th></th>\n",
       "      <th>OBJECTID</th>\n",
       "      <th>CSA_Label</th>\n",
       "      <th>Total_Unsheltered_Pop</th>\n",
       "      <th>Total_Sheltered_Pop</th>\n",
       "      <th>Total_Pop</th>\n",
       "      <th>Data_Source</th>\n",
       "      <th>Square_Miles</th>\n",
       "      <th>Density_Unsheltered</th>\n",
       "      <th>Density_Sheltered</th>\n",
       "      <th>Density_Total</th>\n",
       "      <th>Shape__Area</th>\n",
       "      <th>Shape__Length</th>\n",
       "      <th>geometry</th>\n",
       "    </tr>\n",
       "  </thead>\n",
       "  <tbody>\n",
       "    <tr>\n",
       "      <th>303</th>\n",
       "      <td>304</td>\n",
       "      <td>Unincorporated - Wiseburn</td>\n",
       "      <td>7</td>\n",
       "      <td>0</td>\n",
       "      <td>7</td>\n",
       "      <td>Los Angeles Homeless Services Authority (LAHSA)</td>\n",
       "      <td>0.68810454359537</td>\n",
       "      <td>10.1728728071243</td>\n",
       "      <td>0</td>\n",
       "      <td>10.1728728071243</td>\n",
       "      <td>2593773.58984375</td>\n",
       "      <td>7116.52016424088</td>\n",
       "      <td>None</td>\n",
       "    </tr>\n",
       "  </tbody>\n",
       "</table>\n",
       "</div>"
      ],
      "text/plain": [
       "    OBJECTID                  CSA_Label Total_Unsheltered_Pop  \\\n",
       "303      304  Unincorporated - Wiseburn                     7   \n",
       "\n",
       "    Total_Sheltered_Pop Total_Pop  \\\n",
       "303                   0         7   \n",
       "\n",
       "                                         Data_Source      Square_Miles  \\\n",
       "303  Los Angeles Homeless Services Authority (LAHSA)  0.68810454359537   \n",
       "\n",
       "    Density_Unsheltered Density_Sheltered     Density_Total       Shape__Area  \\\n",
       "303    10.1728728071243                 0  10.1728728071243  2593773.58984375   \n",
       "\n",
       "        Shape__Length geometry  \n",
       "303  7116.52016424088     None  "
      ]
     },
     "execution_count": 49,
     "metadata": {},
     "output_type": "execute_result"
    }
   ],
   "source": [
    "#last row of data\n",
    "homeless.tail(1)"
   ]
  },
  {
   "cell_type": "code",
   "execution_count": 50,
   "id": "da69f1fc-7c37-46ee-a97f-e2740c294e81",
   "metadata": {},
   "outputs": [
    {
     "data": {
      "text/html": [
       "<div>\n",
       "<style scoped>\n",
       "    .dataframe tbody tr th:only-of-type {\n",
       "        vertical-align: middle;\n",
       "    }\n",
       "\n",
       "    .dataframe tbody tr th {\n",
       "        vertical-align: top;\n",
       "    }\n",
       "\n",
       "    .dataframe thead th {\n",
       "        text-align: right;\n",
       "    }\n",
       "</style>\n",
       "<table border=\"1\" class=\"dataframe\">\n",
       "  <thead>\n",
       "    <tr style=\"text-align: right;\">\n",
       "      <th></th>\n",
       "      <th>OBJECTID</th>\n",
       "      <th>CSA_Label</th>\n",
       "      <th>Total_Unsheltered_Pop</th>\n",
       "      <th>Total_Sheltered_Pop</th>\n",
       "      <th>Total_Pop</th>\n",
       "      <th>Data_Source</th>\n",
       "      <th>Square_Miles</th>\n",
       "      <th>Density_Unsheltered</th>\n",
       "      <th>Density_Sheltered</th>\n",
       "      <th>Density_Total</th>\n",
       "      <th>Shape__Area</th>\n",
       "      <th>Shape__Length</th>\n",
       "      <th>geometry</th>\n",
       "    </tr>\n",
       "  </thead>\n",
       "  <tbody>\n",
       "    <tr>\n",
       "      <th>63</th>\n",
       "      <td>64</td>\n",
       "      <td>City of Rolling Hills</td>\n",
       "      <td>0</td>\n",
       "      <td>0</td>\n",
       "      <td>0</td>\n",
       "      <td>Los Angeles Homeless Services Authority (LAHSA)</td>\n",
       "      <td>2.99100400804008</td>\n",
       "      <td>0</td>\n",
       "      <td>0</td>\n",
       "      <td>0</td>\n",
       "      <td>11235232.9921875</td>\n",
       "      <td>17626.5394211449</td>\n",
       "      <td>None</td>\n",
       "    </tr>\n",
       "    <tr>\n",
       "      <th>195</th>\n",
       "      <td>196</td>\n",
       "      <td>Los Angeles - Tujunga</td>\n",
       "      <td>61</td>\n",
       "      <td>0</td>\n",
       "      <td>61</td>\n",
       "      <td>Los Angeles Homeless Services Authority (LAHSA)</td>\n",
       "      <td>5.41492020773452</td>\n",
       "      <td>11.2651706137552</td>\n",
       "      <td>0</td>\n",
       "      <td>11.2651706137552</td>\n",
       "      <td>20579125.3789063</td>\n",
       "      <td>26360.0418556902</td>\n",
       "      <td>None</td>\n",
       "    </tr>\n",
       "    <tr>\n",
       "      <th>272</th>\n",
       "      <td>273</td>\n",
       "      <td>Unincorporated - Rosewood/West Rancho Dominguez</td>\n",
       "      <td>76</td>\n",
       "      <td>0</td>\n",
       "      <td>76</td>\n",
       "      <td>Los Angeles Homeless Services Authority (LAHSA)</td>\n",
       "      <td>0.480521618951797</td>\n",
       "      <td>158.161458303968</td>\n",
       "      <td>0</td>\n",
       "      <td>158.161458303968</td>\n",
       "      <td>1810943.98828125</td>\n",
       "      <td>5652.25939067671</td>\n",
       "      <td>None</td>\n",
       "    </tr>\n",
       "  </tbody>\n",
       "</table>\n",
       "</div>"
      ],
      "text/plain": [
       "    OBJECTID                                        CSA_Label  \\\n",
       "63        64                            City of Rolling Hills   \n",
       "195      196                            Los Angeles - Tujunga   \n",
       "272      273  Unincorporated - Rosewood/West Rancho Dominguez   \n",
       "\n",
       "    Total_Unsheltered_Pop Total_Sheltered_Pop Total_Pop  \\\n",
       "63                      0                   0         0   \n",
       "195                    61                   0        61   \n",
       "272                    76                   0        76   \n",
       "\n",
       "                                         Data_Source       Square_Miles  \\\n",
       "63   Los Angeles Homeless Services Authority (LAHSA)   2.99100400804008   \n",
       "195  Los Angeles Homeless Services Authority (LAHSA)   5.41492020773452   \n",
       "272  Los Angeles Homeless Services Authority (LAHSA)  0.480521618951797   \n",
       "\n",
       "    Density_Unsheltered Density_Sheltered     Density_Total       Shape__Area  \\\n",
       "63                    0                 0                 0  11235232.9921875   \n",
       "195    11.2651706137552                 0  11.2651706137552  20579125.3789063   \n",
       "272    158.161458303968                 0  158.161458303968  1810943.98828125   \n",
       "\n",
       "        Shape__Length geometry  \n",
       "63   17626.5394211449     None  \n",
       "195  26360.0418556902     None  \n",
       "272  5652.25939067671     None  "
      ]
     },
     "execution_count": 50,
     "metadata": {},
     "output_type": "execute_result"
    }
   ],
   "source": [
    "# random sample of the data \n",
    "homeless.sample(3)"
   ]
  },
  {
   "cell_type": "code",
   "execution_count": 51,
   "id": "c8861125-37f4-497d-b30e-a46de712f2c9",
   "metadata": {},
   "outputs": [
    {
     "data": {
      "text/plain": [
       "(304, 13)"
      ]
     },
     "execution_count": 51,
     "metadata": {},
     "output_type": "execute_result"
    }
   ],
   "source": [
    "# how many rows and columns?\n",
    "homeless.shape"
   ]
  },
  {
   "cell_type": "code",
   "execution_count": 52,
   "id": "e0a72e32-85c1-4123-8a31-ce4da2233f14",
   "metadata": {},
   "outputs": [
    {
     "data": {
      "text/plain": [
       "['OBJECTID',\n",
       " 'CSA_Label',\n",
       " 'Total_Unsheltered_Pop',\n",
       " 'Total_Sheltered_Pop',\n",
       " 'Total_Pop',\n",
       " 'Data_Source',\n",
       " 'Square_Miles',\n",
       " 'Density_Unsheltered',\n",
       " 'Density_Sheltered',\n",
       " 'Density_Total',\n",
       " 'Shape__Area',\n",
       " 'Shape__Length',\n",
       " 'geometry']"
      ]
     },
     "execution_count": 52,
     "metadata": {},
     "output_type": "execute_result"
    }
   ],
   "source": [
    "# what are the columns?\n",
    "homeless.columns.to_list()"
   ]
  },
  {
   "cell_type": "code",
   "execution_count": 53,
   "id": "4ff1d897-669d-41eb-b19e-67498c0ad631",
   "metadata": {},
   "outputs": [
    {
     "data": {
      "text/plain": [
       "OBJECTID                   object\n",
       "CSA_Label                  object\n",
       "Total_Unsheltered_Pop      object\n",
       "Total_Sheltered_Pop        object\n",
       "Total_Pop                  object\n",
       "Data_Source                object\n",
       "Square_Miles               object\n",
       "Density_Unsheltered        object\n",
       "Density_Sheltered          object\n",
       "Density_Total              object\n",
       "Shape__Area                object\n",
       "Shape__Length              object\n",
       "geometry                 geometry\n",
       "dtype: object"
      ]
     },
     "execution_count": 53,
     "metadata": {},
     "output_type": "execute_result"
    }
   ],
   "source": [
    "# what are the data types for each column?\n",
    "homeless.dtypes"
   ]
  },
  {
   "cell_type": "code",
   "execution_count": 54,
   "id": "2c75e34f-3ec2-45f8-9efe-f39c8bb4d6f8",
   "metadata": {},
   "outputs": [
    {
     "name": "stdout",
     "output_type": "stream",
     "text": [
      "<class 'geopandas.geodataframe.GeoDataFrame'>\n",
      "RangeIndex: 304 entries, 0 to 303\n",
      "Data columns (total 13 columns):\n",
      " #   Column                 Non-Null Count  Dtype   \n",
      "---  ------                 --------------  -----   \n",
      " 0   OBJECTID               304 non-null    object  \n",
      " 1   CSA_Label              304 non-null    object  \n",
      " 2   Total_Unsheltered_Pop  304 non-null    object  \n",
      " 3   Total_Sheltered_Pop    304 non-null    object  \n",
      " 4   Total_Pop              304 non-null    object  \n",
      " 5   Data_Source            304 non-null    object  \n",
      " 6   Square_Miles           304 non-null    object  \n",
      " 7   Density_Unsheltered    304 non-null    object  \n",
      " 8   Density_Sheltered      304 non-null    object  \n",
      " 9   Density_Total          304 non-null    object  \n",
      " 10  Shape__Area            304 non-null    object  \n",
      " 11  Shape__Length          304 non-null    object  \n",
      " 12  geometry               0 non-null      geometry\n",
      "dtypes: geometry(1), object(12)\n",
      "memory usage: 31.0+ KB\n"
     ]
    }
   ],
   "source": [
    "# dataframe info\n",
    "homeless.info()"
   ]
  },
  {
   "cell_type": "code",
   "execution_count": 55,
   "id": "27c2fd56-7dda-42b9-9492-bdf0e73da36f",
   "metadata": {},
   "outputs": [
    {
     "name": "stdout",
     "output_type": "stream",
     "text": [
      "<class 'geopandas.geodataframe.GeoDataFrame'>\n",
      "RangeIndex: 304 entries, 0 to 303\n",
      "Data columns (total 13 columns):\n",
      " #   Column                 Non-Null Count  Dtype   \n",
      "---  ------                 --------------  -----   \n",
      " 0   OBJECTID               304 non-null    object  \n",
      " 1   CSA_Label              304 non-null    object  \n",
      " 2   Total_Unsheltered_Pop  304 non-null    object  \n",
      " 3   Total_Sheltered_Pop    304 non-null    object  \n",
      " 4   Total_Pop              304 non-null    object  \n",
      " 5   Data_Source            304 non-null    object  \n",
      " 6   Square_Miles           304 non-null    object  \n",
      " 7   Density_Unsheltered    304 non-null    object  \n",
      " 8   Density_Sheltered      304 non-null    object  \n",
      " 9   Density_Total          304 non-null    object  \n",
      " 10  Shape__Area            304 non-null    object  \n",
      " 11  Shape__Length          304 non-null    object  \n",
      " 12  geometry               0 non-null      geometry\n",
      "dtypes: geometry(1), object(12)\n",
      "memory usage: 31.0+ KB\n"
     ]
    }
   ],
   "source": [
    "# dataframe info\n",
    "homeless.info()"
   ]
  },
  {
   "cell_type": "code",
   "execution_count": 56,
   "id": "ad42a7a8-d646-433b-ab60-14d138d1be4b",
   "metadata": {},
   "outputs": [
    {
     "data": {
      "text/plain": [
       "Total_Unsheltered_Pop\n",
       "0      23\n",
       "2      10\n",
       "4       6\n",
       "1       6\n",
       "12      5\n",
       "       ..\n",
       "44      1\n",
       "86      1\n",
       "868     1\n",
       "169     1\n",
       "433     1\n",
       "Name: count, Length: 184, dtype: int64"
      ]
     },
     "execution_count": 56,
     "metadata": {},
     "output_type": "execute_result"
    }
   ],
   "source": [
    "# What is the amount of unshoused people per community area?\n",
    "homeless['Total_Unsheltered_Pop'].value_counts()"
   ]
  },
  {
   "cell_type": "code",
   "execution_count": 57,
   "id": "9b58e4f6-d111-447a-a052-6af1399c330d",
   "metadata": {},
   "outputs": [
    {
     "data": {
      "text/plain": [
       "Total_Unsheltered_Pop\n",
       "0      23\n",
       "2      10\n",
       "4       6\n",
       "1       6\n",
       "12      5\n",
       "       ..\n",
       "44      1\n",
       "86      1\n",
       "868     1\n",
       "169     1\n",
       "433     1\n",
       "Name: count, Length: 184, dtype: int64"
      ]
     },
     "execution_count": 57,
     "metadata": {},
     "output_type": "execute_result"
    }
   ],
   "source": [
    "# save it as a variable\n",
    "unhoused_count = homeless['Total_Unsheltered_Pop'].value_counts()\n",
    "unhoused_count"
   ]
  },
  {
   "cell_type": "code",
   "execution_count": 58,
   "id": "a53e1372-dc2f-4318-8dae-108e4eddce74",
   "metadata": {},
   "outputs": [
    {
     "data": {
      "text/plain": [
       "pandas.core.series.Series"
      ]
     },
     "execution_count": 58,
     "metadata": {},
     "output_type": "execute_result"
    }
   ],
   "source": [
    "# what data type is unhoused_count?\n",
    "type(unhoused_count)"
   ]
  },
  {
   "cell_type": "code",
   "execution_count": 59,
   "id": "894d5ab7-54ba-4afb-b580-3d4f7e81fcfe",
   "metadata": {},
   "outputs": [
    {
     "data": {
      "text/html": [
       "<div>\n",
       "<style scoped>\n",
       "    .dataframe tbody tr th:only-of-type {\n",
       "        vertical-align: middle;\n",
       "    }\n",
       "\n",
       "    .dataframe tbody tr th {\n",
       "        vertical-align: top;\n",
       "    }\n",
       "\n",
       "    .dataframe thead th {\n",
       "        text-align: right;\n",
       "    }\n",
       "</style>\n",
       "<table border=\"1\" class=\"dataframe\">\n",
       "  <thead>\n",
       "    <tr style=\"text-align: right;\">\n",
       "      <th></th>\n",
       "      <th>Total_Unsheltered_Pop</th>\n",
       "      <th>count</th>\n",
       "    </tr>\n",
       "  </thead>\n",
       "  <tbody>\n",
       "    <tr>\n",
       "      <th>0</th>\n",
       "      <td>0</td>\n",
       "      <td>23</td>\n",
       "    </tr>\n",
       "    <tr>\n",
       "      <th>1</th>\n",
       "      <td>2</td>\n",
       "      <td>10</td>\n",
       "    </tr>\n",
       "    <tr>\n",
       "      <th>2</th>\n",
       "      <td>4</td>\n",
       "      <td>6</td>\n",
       "    </tr>\n",
       "    <tr>\n",
       "      <th>3</th>\n",
       "      <td>1</td>\n",
       "      <td>6</td>\n",
       "    </tr>\n",
       "    <tr>\n",
       "      <th>4</th>\n",
       "      <td>12</td>\n",
       "      <td>5</td>\n",
       "    </tr>\n",
       "    <tr>\n",
       "      <th>...</th>\n",
       "      <td>...</td>\n",
       "      <td>...</td>\n",
       "    </tr>\n",
       "    <tr>\n",
       "      <th>179</th>\n",
       "      <td>44</td>\n",
       "      <td>1</td>\n",
       "    </tr>\n",
       "    <tr>\n",
       "      <th>180</th>\n",
       "      <td>86</td>\n",
       "      <td>1</td>\n",
       "    </tr>\n",
       "    <tr>\n",
       "      <th>181</th>\n",
       "      <td>868</td>\n",
       "      <td>1</td>\n",
       "    </tr>\n",
       "    <tr>\n",
       "      <th>182</th>\n",
       "      <td>169</td>\n",
       "      <td>1</td>\n",
       "    </tr>\n",
       "    <tr>\n",
       "      <th>183</th>\n",
       "      <td>433</td>\n",
       "      <td>1</td>\n",
       "    </tr>\n",
       "  </tbody>\n",
       "</table>\n",
       "<p>184 rows × 2 columns</p>\n",
       "</div>"
      ],
      "text/plain": [
       "    Total_Unsheltered_Pop  count\n",
       "0                       0     23\n",
       "1                       2     10\n",
       "2                       4      6\n",
       "3                       1      6\n",
       "4                      12      5\n",
       "..                    ...    ...\n",
       "179                    44      1\n",
       "180                    86      1\n",
       "181                   868      1\n",
       "182                   169      1\n",
       "183                   433      1\n",
       "\n",
       "[184 rows x 2 columns]"
      ]
     },
     "execution_count": 59,
     "metadata": {},
     "output_type": "execute_result"
    }
   ],
   "source": [
    "# let's convert the series into a dataframe\n",
    "unhoused_count = unhoused_count.reset_index()\n",
    "unhoused_count"
   ]
  },
  {
   "cell_type": "code",
   "execution_count": 60,
   "id": "303982f8-1a14-4153-91cb-0cd1a66ddcb1",
   "metadata": {},
   "outputs": [
    {
     "data": {
      "text/plain": [
       "<Axes: >"
      ]
     },
     "execution_count": 60,
     "metadata": {},
     "output_type": "execute_result"
    },
    {
     "data": {
      "image/png": "[encoded data removed]",
      "text/plain": [
       "<Figure size 640x480 with 1 Axes>"
      ]
     },
     "metadata": {},
     "output_type": "display_data"
    }
   ],
   "source": [
    "# visual check of the data with a line plot\n",
    "unhoused_count.plot()"
   ]
  },
  {
   "cell_type": "code",
   "execution_count": 68,
   "id": "a47d34f9-68a5-40e6-881e-c7fb86efe350",
   "metadata": {},
   "outputs": [],
   "source": [
    "# name the columns\n",
    "unhoused_count.columns = ['unhoused pop', 'count']"
   ]
  },
  {
   "cell_type": "code",
   "execution_count": 71,
   "id": "000a1bc4-4d78-4c8b-a0f9-8a62d085e92f",
   "metadata": {},
   "outputs": [
    {
     "data": {
      "text/plain": [
       "<Axes: title={'center': 'Number of Unhoused People per Community'}, xlabel='unhoused pop'>"
      ]
     },
     "execution_count": 71,
     "metadata": {},
     "output_type": "execute_result"
    },
    {
     "data": {
      "image/png": "[encoded data removed]",
      "text/plain": [
       "<Figure size 640x480 with 1 Axes>"
      ]
     },
     "metadata": {},
     "output_type": "display_data"
    }
   ],
   "source": [
    "# label the graph, based on the patterns/frequencies in the unsheltered population count\n",
    "unhoused_count.plot.bar(x = 'unhoused pop', y = 'count', title = 'Frequency in the Number of Unhoused People per Community')"
   ]
  },
  {
   "cell_type": "markdown",
   "id": "59007cb3-301d-4711-a238-c96d14747f01",
   "metadata": {},
   "source": [
    "### A bar plot is not the best way to view this data. \n",
    "\n",
    "Since there are too many variables, I will view the same variables in a scatterplot instead."
   ]
  },
  {
   "cell_type": "code",
   "execution_count": 78,
   "id": "a52ba509-8f1b-4c36-af1b-77a453dee86c",
   "metadata": {},
   "outputs": [],
   "source": [
    "#import to create scatterplots\n",
    "import matplotlib.pyplot as plt"
   ]
  },
  {
   "cell_type": "code",
   "execution_count": 89,
   "id": "741ef25d-0f1e-4fb7-96c1-ddb55994b5f2",
   "metadata": {},
   "outputs": [],
   "source": [
    "# Previously, \"Total_Unsheltered_Pop\" was labeled as an object. I will change it into an integer which makes more sense for the scatterplot.\n",
    "homeless['Total_Unsheltered_Pop'] = homeless['Total_Unsheltered_Pop'].astype(int)"
   ]
  },
  {
   "cell_type": "code",
   "execution_count": 90,
   "id": "87891d7b-28da-4cfb-8e2f-37e500b0ef66",
   "metadata": {},
   "outputs": [],
   "source": [
    "# Extracting data for the first 25 cities\n",
    "first_25_cities = homeless['CSA_Label'].head(25)\n",
    "unhoused_count = homeless['Total_Unsheltered_Pop'].head(25)"
   ]
  },
  {
   "cell_type": "code",
   "execution_count": 91,
   "id": "a7dca2b5-3321-4707-9251-6497510bfab6",
   "metadata": {},
   "outputs": [
    {
     "data": {
      "image/png": "[encoded data removed]",
      "text/plain": [
       "<Figure size 1000x600 with 1 Axes>"
      ]
     },
     "metadata": {},
     "output_type": "display_data"
    }
   ],
   "source": [
    "# Scatter plot\n",
    "plt.figure(figsize=(10, 6))\n",
    "plt.scatter(first_25_cities, unhoused_count, color='blue', marker='o')\n",
    "plt.title('Unhoused Population Count Across Cities (First 25)')\n",
    "plt.xlabel('Cities')\n",
    "plt.ylabel('Unhoused Population Count')\n",
    "plt.xticks(rotation=45, ha='right') #rotate names of CSA Label\n",
    "\n",
    "# Show the plot\n",
    "plt.show()"
   ]
  }
 ],
 "metadata": {
  "kernelspec": {
   "display_name": "Python 3 (ipykernel)",
   "language": "python",
   "name": "python3"
  },
  "language_info": {
   "codemirror_mode": {
    "name": "ipython",
    "version": 3
   },
   "file_extension": ".py",
   "mimetype": "text/x-python",
   "name": "python",
   "nbconvert_exporter": "python",
   "pygments_lexer": "ipython3",
   "version": "3.11.7"
  }
 },
 "nbformat": 4,
 "nbformat_minor": 5
}
