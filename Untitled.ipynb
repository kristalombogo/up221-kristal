{
 "cells": [
  {
   "cell_type": "code",
   "execution_count": null,
   "id": "6a437880-d2e7-445f-9f33-2a8f47ba566a",
   "metadata": {},
   "outputs": [],
   "source": [
    "# Calculate the count of eviction filings for each address and create a DataFrame\n",
    "address_ct = mergedevictions['Address_x'].value_counts().reset_index(name='count')\n",
    "# Merge the count of eviction filings DataFrame with the original mergedevictions DataFrame based on the 'Address_x' column\n",
    "address_df = address_ct.merge(mergedevictions,how='left',on='Address_x')\n",
    "# Remove duplicate rows in the DataFrame based on the 'Address_x' column\n",
    "address_df = address_df.drop_duplicates(subset='Address_x')\n",
    "# Count the number of occurrences of each unique address\n",
    "address_df.Address_x.value_counts()\n",
    "# Convert the DataFrame into a GeoDataFrame, specifying the 'geometry' column\n",
    "address_df = gpd.GeoDataFrame(address_df, geometry='geometry')\n",
    "address_df.info()"
   ]
  },
  {
   "cell_type": "code",
   "execution_count": null,
   "id": "30648bb6-57fb-4d81-b2a1-88f2590044ae",
   "metadata": {},
   "outputs": [],
   "source": [
    "#spatial join between two GeoDataFrames\n",
    "evictions_address = address_df.sjoin(vul_neighborhoods,how='right')\n",
    "#retrieve the column names of the resulting DataFrame and convert them to a list.\n",
    "evictions_address.columns.to_list()\n",
    "#retrieve the geometry column of the evictions_address data frame \n",
    "evictions_address.geometry\n",
    "#removes duplicate rows from the evictions_address DataFrame based on the 'Address_x' column\n",
    "evictions_address=evictions_address.drop_duplicates(subset = 'Address_x')\n",
    "#converts the values in the 'Address_x' column of the evictions_address DataFrame to strings\n",
    "evictions_address.Address_x = evictions_address.Address_x.astype(str)"
   ]
  },
  {
   "cell_type": "code",
   "execution_count": null,
   "id": "587913b7-2d56-4b7b-8d3e-c78c74983c06",
   "metadata": {},
   "outputs": [],
   "source": [
    "# Group rows in the DataFrame evictions_address by 'FIPS' column\n",
    "census_evic_counts = evictions_address.groupby('FIPS').agg({\n",
    " 'Address_x':', '.join,\n",
    " 'count':'sum',\n",
    " 'zipcode':'first',\n",
    " 'geometry':'first',\n",
    " 'name':'first',\n",
    " 'location':'first',\n",
    " 'area_sqmile':'first',\n",
    " 'total_pop':'first',\n",
    " 'housing_units':'first',\n",
    " 'households':'first',\n",
    " 'pct_below150':'first',\n",
    " 'unemployed':'first',\n",
    " 'cost_burdened_low_income':'first',\n",
    " 'no_high_school':'first',\n",
    " 'persons_over65':'first',\n",
    " 'disabled_pop':'first',\n",
    " 'single_parent':'first',\n",
    " 'minority_pop':'first',\n",
    " 'limited_eng':'first',\n",
    " '10_units_plus':'first',\n",
    " 'crowded_units':'first',\n",
    " 'persons_group_quarters':'first',\n",
    " 'pct_pov':'first',\n",
    " 'pct_unemp':'first',\n",
    " 'pct_cost_burdened_low_income':'first'\n",
    "}).reset_index()\n",
    "\n",
    "census_evic_counts.head()"
   ]
  },
  {
   "cell_type": "code",
   "execution_count": null,
   "id": "4ae7617b-62f8-4d53-b1fa-79c4f198b1d2",
   "metadata": {},
   "outputs": [],
   "source": [
    "#converts the DataFrame census_evic_counts into a GeoDataFrame\n",
    "census_evic_counts = gpd.GeoDataFrame(census_evic_counts,geometry='geometry')\n",
    "#select the top 100 rows of the census_evic_counts GeoDataFrame\n",
    "census_evic_counts_top = census_evic_counts.nlargest(100,columns='count')\n",
    "#select the bottom 100 rows\n",
    "census_evic_counts_bottom = census_evic_counts.nsmallest(100,columns='count')\n",
    "#specify the Coordinate Reference System (CRS) for the GeoDataFrames\n",
    "census_evic_counts_bottom.crs = \"EPSG:4326\"\n",
    "census_evic_counts_top.crs = \"EPSG:4326\""
   ]
  },
  {
   "cell_type": "code",
   "execution_count": null,
   "id": "f641d835-aa5b-4d7a-ae08-a75832b16688",
   "metadata": {},
   "outputs": [],
   "source": [
    "# Extract the boundary of Downtown Los Angeles (DTLA)\n",
    "dtla_boundary = neighborhoods[neighborhoods['name'] == 'Downtown']\n",
    "\n",
    "# Filter shelters within the boundary of DTLA\n",
    "services_within_dtla = gpd.overlay(services_with_neighborhood, dtla_boundary, how='intersection')\n",
    "\n",
    "# Filter eviction addresses within the boundary of DTLA\n",
    "eviction_addresses_within_dtla = gpd.overlay(eviction_with_neighborhood, dtla_boundary, how='intersection')\n",
    "\n",
    "# Reproject the datasets to EPSG:3857\n",
    "dtla_boundary = dtla_boundary.to_crs(epsg=3857)\n",
    "services_within_dtla = services_within_dtla.to_crs(epsg=3857)\n",
    "eviction_addresses_within_dtla = eviction_addresses_within_dtla.to_crs(epsg=3857)\n",
    "eviction_with_neighborhood= eviction_with_neighborhood.to_crs(epsg=3857)\n",
    "\n",
    "# Plot the boundary of DTLA\n",
    "fig, ax = plt.subplots(figsize=(10, 10))\n",
    "dtla_boundary.plot(ax=ax, color='lightgreen', edgecolor='black', alpha=0.5)\n",
    "\n",
    "# Create a base map of Los Angeles County\n",
    "ax = dtla_boundary.plot(figsize=(10, 10), color='lightgreen', edgecolor='black', alpha=0.5)\n",
    "ctx.add_basemap(ax, source=ctx.providers.CartoDB.Positron)\n",
    "\n",
    "# Plot shelters within DTLA boundary\n",
    "services_within_dtla.plot(ax=ax, color='blue', label='Shelters')\n",
    "\n",
    "# Plot eviction addresses within DTLA boundary\n",
    "eviction_addresses_within_dtla.plot(ax=ax, color='red', marker='o', label='Eviction Addresses')\n",
    "\n",
    "# Add legend\n",
    "ax.legend()\n",
    "\n",
    "# Set plot title and labels\n",
    "ax.set_title('Proximity Analysis of Eviction Filing Addresses to Shelters within DTLA Boundary')\n",
    "ax.set_xlabel('Longitude')\n",
    "ax.set_ylabel('Latitude')\n",
    "\n",
    "# Show plot\n",
    "plt.show()\n"
   ]
  }
 ],
 "metadata": {
  "kernelspec": {
   "display_name": "Python 3 (ipykernel)",
   "language": "python",
   "name": "python3"
  },
  "language_info": {
   "codemirror_mode": {
    "name": "ipython",
    "version": 3
   },
   "file_extension": ".py",
   "mimetype": "text/x-python",
   "name": "python",
   "nbconvert_exporter": "python",
   "pygments_lexer": "ipython3",
   "version": "3.11.7"
  }
 },
 "nbformat": 4,
 "nbformat_minor": 5
}
